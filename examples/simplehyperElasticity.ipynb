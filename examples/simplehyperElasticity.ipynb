{
 "cells": [
  {
   "cell_type": "code",
   "execution_count": 7,
   "metadata": {},
   "outputs": [],
   "source": [
    "import numpy as np\n",
    "import numpy.matlib\n",
    "import matplotlib.pyplot as plt\n",
    "\n",
    "from sbins import *\n",
    "\n"
   ]
  },
  {
   "cell_type": "markdown",
   "metadata": {},
   "source": [
    "# Sparse Bayesian Identification of Nonlinear Systems (SBINS)\n",
    "\n",
    "This notebook demonstrates the basic idea of adapting the original work on \"Sparse Identification of Nonlinear Systems\" (Branton et al. 2016) into a Bayesian setting. We demonstrate the approach in the context of the discovery on nonlinear material consitutive laws in material science applications.\n",
    "\n",
    "We are interesting in learning the relationship between stress $\\sigma$ and strain ($\\epsilon$) in a material for experimental results. One way to do this to learn the stiffness, i.e.\n",
    "$$\n",
    "\\frac{d\\sigma}{d\\epsilon} = f(\\epsilon)\n",
    "$$\n",
    "We can think of using a function approximation method for learning $f(\\epsilon)$ based on experimental data provided for $\\frac{d\\sigma}{d\\epsilon}$ which can be computed by numerically differentiating the $\\epsilon - \\sigma$ curve obtain from an experiment on a material.\n",
    "\n",
    "SINDy is a method which postulates a function form for $f(\\epsilon)$ for a example a polynomial (considered in this notebook).\n",
    "$$\n",
    "f(\\epsilon) \\approx = \\sum_{i=0}^M a_i \\epsilon^i\n",
    "$$\n",
    "for which we take $M$ large. Naturally a choice of large $M$ would make the approach very vunerable to overfitting, further more, the optimal solution is likely to have small contributions from all terms of the polynomial. It is therefore natural to regularize the problem, and consider sparse regression; for example using LASSO.\n",
    "\n",
    "This could be directly applied to the problem at hand, yet it does not account for the fact that there is inherit uncertainty due to natural variation in the material from sample to sample, but also noise associated with measurement uncertainty. Therefore to capture this uncertainty is natural to be assign probability distributions to the coefficents $a_i$. In the same frame, we would also like to invoke sparsity in the model, and therefore here we extend SINDy, but replace LASSO with Sparse Bayesian Regression methods."
   ]
  },
  {
   "cell_type": "code",
   "execution_count": 12,
   "metadata": {},
   "outputs": [],
   "source": [
    "np.random.seed(123)\n",
    "N = 5\n",
    "N_perExperiment = 25\n",
    "featureOrder = 7\n",
    "s = 0.05"
   ]
  },
  {
   "cell_type": "markdown",
   "metadata": {},
   "source": [
    "## Generating Synthetic Exeperimental Data for Nonlinear Elasticity"
   ]
  },
  {
   "cell_type": "code",
   "execution_count": 13,
   "metadata": {},
   "outputs": [],
   "source": [
    "def experiment(x,s):\n",
    "    k1 = np.random.normal(1.0, 0.2)\n",
    "    k2 = np.random.normal(2.0, 0.2)\n",
    "    return k1 * x + k2 * x**3 + np.random.normal(0.0, s, x.shape)"
   ]
  },
  {
   "cell_type": "code",
   "execution_count": 14,
   "metadata": {},
   "outputs": [
    {
     "data": {
      "image/png": "[encoded data removed]",
      "text/plain": [
       "<Figure size 432x288 with 1 Axes>"
      ]
     },
     "metadata": {
      "needs_background": "light"
     },
     "output_type": "display_data"
    }
   ],
   "source": [
    "x = np.linspace(0., 2., N_perExperiment)\n",
    "\n",
    "Y = experiment(x,s)\n",
    "fig, ax = plt.subplots()\n",
    "ax.plot(x,Y,'o')\n",
    "for i in range(N - 1):   \n",
    "    tmp = experiment(x, s)\n",
    "    Y = np.vstack((Y,tmp))\n",
    "    ax.plot(x, tmp, 'o')\n",
    "   \n",
    "Y = Y.T # Transpose so correct shape for differentiation later\n",
    "\n",
    "plt.show()"
   ]
  },
  {
   "cell_type": "code",
   "execution_count": 15,
   "metadata": {},
   "outputs": [
    {
     "data": {
      "image/png": "[encoded data removed]",
      "text/plain": [
       "<Figure size 432x288 with 1 Axes>"
      ]
     },
     "metadata": {
      "needs_background": "light"
     },
     "output_type": "display_data"
    }
   ],
   "source": [
    "sfd = SmoothedFiniteDifference(smoother_kws={'polyorder': 3, 'window_length': 9})\n",
    "\n",
    "dYdX = sfd._differentiate(Y, x)\n",
    "\n",
    "fig, ax = plt.subplots()\n",
    "\n",
    "for i in range(N):\n",
    "    \n",
    "    ax.plot(x, dYdX[:,i], 'o')\n",
    "    \n",
    "plt.show()\n",
    "\n",
    "dYdX = dYdX.flatten('F') # Flattern Matrix of Data into a Column Vector for pymc3 implementation"
   ]
  },
  {
   "cell_type": "code",
   "execution_count": 17,
   "metadata": {},
   "outputs": [],
   "source": [
    "# Build Polynomial Feature Library\n",
    "\n",
    "# [1, X, X**2, ... , X**7]\n",
    "\n",
    "X = np.ones(N * x.size)\n",
    "\n",
    "for i in range(1,featureOrder+1):\n",
    "    \n",
    "    tmp = np.matlib.repmat(x, 1, N)\n",
    "    \n",
    "    X = np.vstack((X, tmp ** i))\n"
   ]
  },
  {
   "cell_type": "code",
   "execution_count": 30,
   "metadata": {},
   "outputs": [
    {
     "name": "stdout",
     "output_type": "stream",
     "text": [
      "Running on PyMC3 v3.11.1\n"
     ]
    },
    {
     "name": "stderr",
     "output_type": "stream",
     "text": [
      "/Users/td336/miniconda3/lib/python3.7/site-packages/pymc3/sampling.py:469: FutureWarning: In an upcoming release, pm.sample will return an `arviz.InferenceData` object instead of a `MultiTrace` by default. You can pass return_inferencedata=True or return_inferencedata=False to be safe and silence this warning.\n",
      "  FutureWarning,\n",
      "Auto-assigning NUTS sampler...\n",
      "Initializing NUTS using advi+adapt_diag...\n"
     ]
    },
    {
     "data": {
      "text/html": [
       "\n",
       "    <div>\n",
       "        <style>\n",
       "            /* Turns off some styling */\n",
       "            progress {\n",
       "                /* gets rid of default border in Firefox and Opera. */\n",
       "                border: none;\n",
       "                /* Needs to be in here for Safari polyfill so background images work as expected. */\n",
       "                background-size: auto;\n",
       "            }\n",
       "            .progress-bar-interrupted, .progress-bar-interrupted::-webkit-progress-bar {\n",
       "                background: #F44336;\n",
       "            }\n",
       "        </style>\n",
       "      <progress value='19413' class='' max='200000' style='width:300px; height:20px; vertical-align: middle;'></progress>\n",
       "      9.71% [19413/200000 00:02<00:24 Average Loss = 451.89]\n",
       "    </div>\n",
       "    "
      ],
      "text/plain": [
       "<IPython.core.display.HTML object>"
      ]
     },
     "metadata": {},
     "output_type": "display_data"
    },
    {
     "name": "stderr",
     "output_type": "stream",
     "text": [
      "Convergence achieved at 20300\n",
      "Interrupted at 20,299 [10%]: Average Loss = 65,697\n",
      "Multiprocess sampling (4 chains in 4 jobs)\n",
      "NUTS: [sig, c, c2_tilde, tau_tilde, lamda, gradient_tilde]\n"
     ]
    },
    {
     "data": {
      "text/html": [
       "\n",
       "    <div>\n",
       "        <style>\n",
       "            /* Turns off some styling */\n",
       "            progress {\n",
       "                /* gets rid of default border in Firefox and Opera. */\n",
       "                border: none;\n",
       "                /* Needs to be in here for Safari polyfill so background images work as expected. */\n",
       "                background-size: auto;\n",
       "            }\n",
       "            .progress-bar-interrupted, .progress-bar-interrupted::-webkit-progress-bar {\n",
       "                background: #F44336;\n",
       "            }\n",
       "        </style>\n",
       "      <progress value='12000' class='' max='12000' style='width:300px; height:20px; vertical-align: middle;'></progress>\n",
       "      100.00% [12000/12000 06:20<00:00 Sampling 4 chains, 47 divergences]\n",
       "    </div>\n",
       "    "
      ],
      "text/plain": [
       "<IPython.core.display.HTML object>"
      ]
     },
     "metadata": {},
     "output_type": "display_data"
    },
    {
     "name": "stderr",
     "output_type": "stream",
     "text": [
      "Sampling 4 chains for 1_000 tune and 2_000 draw iterations (4_000 + 8_000 draws total) took 390 seconds.\n",
      "There were 19 divergences after tuning. Increase `target_accept` or reparameterize.\n",
      "There were 6 divergences after tuning. Increase `target_accept` or reparameterize.\n",
      "There were 16 divergences after tuning. Increase `target_accept` or reparameterize.\n",
      "There were 6 divergences after tuning. Increase `target_accept` or reparameterize.\n",
      "The number of effective samples is smaller than 25% for some parameters.\n"
     ]
    }
   ],
   "source": [
    "import pymc3 as pm\n",
    "\n",
    "print(f\"Running on PyMC3 v{pm.__version__}\")\n",
    "\n",
    "#Guess as to number of 'meaningful' gradients we have- order of magnitude is okay!\n",
    "m0=3\n",
    "#Other constants for the model\n",
    "slab_scale = 3\n",
    "slab_scale_squared=slab_scale*slab_scale\n",
    "slab_degrees_of_freedom=25\n",
    "half_slab_df=slab_degrees_of_freedom*0.5\n",
    "\n",
    "M = featureOrder + 1\n",
    "\n",
    "with pm.Model() as finnish_horseshoe_prior:\n",
    "\n",
    "    tau0 = (m0 / (M - m0)) * (s / np.sqrt(1.0 * N))\n",
    "\n",
    "    #Non-centered distributions- loc=0, width=1 then shift/stretch afterwards\n",
    "    gradient_tilde = pm.Normal('gradient_tilde', mu=0, sd=1, shape=M, testval=0.1)\n",
    "    lamda = pm.HalfCauchy('lamda', beta=1, shape=M, testval=1.0)\n",
    "    tau_tilde = pm.HalfCauchy('tau_tilde', beta=1, testval=0.1)\n",
    "    c2_tilde = pm.InverseGamma('c2_tilde', alpha=half_slab_df, beta=half_slab_df, testval=0.5)\n",
    "\n",
    "    #Do the shifting/stretching\n",
    "    tau=pm.Deterministic('tau', tau_tilde*tau0)\n",
    "    c2=pm.Deterministic('c2',slab_scale_squared*c2_tilde)\n",
    "    lamda_tilde =pm.Deterministic('lamda_tilde', pm.math.sqrt((c2 * pm.math.sqr(lamda) / (c2 + pm.math.sqr(tau) * pm.math.sqr(lamda)) ))) \n",
    "\n",
    "    #Linear model variables as before\n",
    "    gradient = pm.Deterministic('m', tau * lamda_tilde * gradient_tilde)\n",
    "    constant=pm.Normal('c', mu=0.0, sd=2.0, testval=1.0)\n",
    "    mu=pm.Deterministic('mu', pm.math.dot(X.T, gradient)+constant)\n",
    "    sigma=pm.Normal('sig', mu=0.0, sd=2.0, testval=1.0)\n",
    "\n",
    "    y_inference=pm.Normal('y', mu=mu, sd=sigma, observed=dYdX)\n",
    "\n",
    "    #Nuts with changed defaults\n",
    "    trace=pm.sample(2000, init='advi+adapt_diag', tune=1000, target_accept=0.99)"
   ]
  },
  {
   "cell_type": "code",
   "execution_count": 34,
   "metadata": {},
   "outputs": [
    {
     "data": {
      "text/plain": [
       "(8000,)"
      ]
     },
     "execution_count": 34,
     "metadata": {},
     "output_type": "execute_result"
    }
   ],
   "source": [
    "trace['m'][:,0].shape"
   ]
  },
  {
   "cell_type": "code",
   "execution_count": 43,
   "metadata": {},
   "outputs": [
    {
     "data": {
      "text/plain": [
       "<matplotlib.legend.Legend at 0x7ffccbbd58d0>"
      ]
     },
     "execution_count": 43,
     "metadata": {},
     "output_type": "execute_result"
    },
    {
     "data": {
      "image/png": "[encoded data removed]",
      "text/plain": [
       "<Figure size 864x432 with 1 Axes>"
      ]
     },
     "metadata": {
      "needs_background": "light"
     },
     "output_type": "display_data"
    }
   ],
   "source": [
    "fig = plt.figure(figsize=(12,6))\n",
    "\n",
    "for i in range(featureOrder + 1):\n",
    "\n",
    "    plt.hist(trace['m'][:, i] , density=True, alpha=0.75, label = str(i))\n",
    "    \n",
    "plt.legend()    "
   ]
  },
  {
   "cell_type": "code",
   "execution_count": null,
   "metadata": {},
   "outputs": [],
   "source": []
  }
 ],
 "metadata": {
  "interpreter": {
   "hash": "aee8b7b246df8f9039afb4144a1f6fd8d2ca17a180786b69acc140d282b71a49"
  },
  "kernelspec": {
   "display_name": "Python 3",
   "language": "python",
   "name": "python3"
  },
  "language_info": {
   "codemirror_mode": {
    "name": "ipython",
    "version": 3
   },
   "file_extension": ".py",
   "mimetype": "text/x-python",
   "name": "python",
   "nbconvert_exporter": "python",
   "pygments_lexer": "ipython3",
   "version": "3.7.4"
  }
 },
 "nbformat": 4,
 "nbformat_minor": 4
}
